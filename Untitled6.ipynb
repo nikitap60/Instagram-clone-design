{
  "nbformat": 4,
  "nbformat_minor": 0,
  "metadata": {
    "colab": {
      "provenance": [],
      "authorship_tag": "ABX9TyPw5LUjRJVnVzMyYZiqjExk",
      "include_colab_link": true
    },
    "kernelspec": {
      "name": "python3",
      "display_name": "Python 3"
    },
    "language_info": {
      "name": "python"
    }
  },
  "cells": [
    {
      "cell_type": "markdown",
      "metadata": {
        "id": "view-in-github",
        "colab_type": "text"
      },
      "source": [
        "<a href=\"https://colab.research.google.com/github/nikitap60/Instagram-clone-design/blob/main/Untitled6.ipynb\" target=\"_parent\"><img src=\"https://colab.research.google.com/assets/colab-badge.svg\" alt=\"Open In Colab\"/></a>"
      ]
    },
    {
      "cell_type": "markdown",
      "source": [
        "#This is a code cell\n",
        "a=10\n"
      ],
      "metadata": {
        "id": "ewQg_HotZAWi"
      }
    },
    {
      "cell_type": "markdown",
      "source": [
        "# Section 1\n",
        "# Section 2\n",
        "## Sub-section under Section 2\n",
        "### Sub-section under the sub-section under Section 2\n",
        "# Section 3"
      ],
      "metadata": {
        "id": "E3BIWMSWZHyi"
      }
    },
    {
      "cell_type": "markdown",
      "source": [
        "One level of indentation"
      ],
      "metadata": {
        "id": "xDQerVDOZOY8"
      }
    },
    {
      "cell_type": "markdown",
      "source": [
        "Two levels of indentation"
      ],
      "metadata": {
        "id": "2-vOwc3OZRL7"
      }
    },
    {
      "cell_type": "markdown",
      "source": [
        "```python\n",
        "print(\"a\")\n",
        "```"
      ],
      "metadata": {
        "id": "zRuuybxGZWgy"
      }
    },
    {
      "cell_type": "markdown",
      "source": [
        "1. One\n",
        "1. Two\n",
        "1. Three"
      ],
      "metadata": {
        "id": "86Hbe7iJZZSL"
      }
    },
    {
      "cell_type": "markdown",
      "source": [
        "$y=x^2$\n",
        "\n",
        "$e^{i\\pi} + 1 = 0$\n",
        "\n",
        "$e^x=\\sum_{i=0}^\\infty \\frac{1}{i!}x^i$\n",
        "\n",
        "$\\frac{n!}{k!(n-k)!} = {n \\choose k}$\n",
        "\n",
        "$A_{m,n} =\n",
        " \\begin{pmatrix}\n",
        "  a_{1,1} & a_{1,2} & \\cdots & a_{1,n} \\\\\n",
        "  a_{2,1} & a_{2,2} & \\cdots & a_{2,n} \\\\\n",
        "  \\vdots  & \\vdots  & \\ddots & \\vdots  \\\\\n",
        "  a_{m,1} & a_{m,2} & \\cdots & a_{m,n}\n",
        " \\end{pmatrix}$"
      ],
      "metadata": {
        "id": "TQd96YKVZfZj"
      }
    },
    {
      "cell_type": "markdown",
      "source": [
        "First column name  | Second column name\n",
        "-------------------|------------------\n",
        "Row 1, Col 1       | Row 1, Col 2\n",
        "Row 2, Col 1       | Row 2, Col 2"
      ],
      "metadata": {
        "id": "peL2_abDZlFb"
      }
    },
    {
      "cell_type": "markdown",
      "source": [
        "---"
      ],
      "metadata": {
        "id": "FmJOQuaIZpOl"
      }
    },
    {
      "cell_type": "markdown",
      "source": [],
      "metadata": {
        "id": "fXZuAfrnZw0g"
      }
    }
  ]
}